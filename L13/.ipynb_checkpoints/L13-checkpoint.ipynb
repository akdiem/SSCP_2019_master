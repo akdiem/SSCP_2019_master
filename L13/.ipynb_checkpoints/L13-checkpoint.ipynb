{
 "cells": [
  {
   "cell_type": "markdown",
   "metadata": {},
   "source": [
    "# Mechanics Applications in FEniCS"
   ]
  },
  {
   "cell_type": "code",
   "execution_count": 2,
   "metadata": {},
   "outputs": [],
   "source": [
    "%matplotlib inline"
   ]
  },
  {
   "cell_type": "markdown",
   "metadata": {},
   "source": [
    "## Time-dependent problems: diffusion\n",
    "\n",
    "Recall the Poisson equation\n",
    "\n",
    "$$- \\nabla^2 u(\\boldsymbol{x}) = f(\\boldsymbol{x})) \\qquad \\text{on } \\Omega$$\n",
    "\n",
    "augmented by some Dirichlet boundary conditions\n",
    "\n",
    "$$u(\\boldsymbol{x}) = u_D(\\boldsymbol{x}) \\qquad \\text{on } \\partial \\Omega$$.\n",
    "\n",
    "The Poisson equation is a stationary problem (no time dependence). However, in mechanics applications and for biological systems in particular, we are most often interested in solving time-dependent problems. The Poisson equation can easily be extended to a time-dependent problem by introducing time as variable $t$, resulting in the diffusion (or heat) equation:\n",
    "\n",
    "$$\\frac{\\partial u(t, \\boldsymbol{x})}{\\partial t} = \\nabla^2 u(t, \\boldsymbol{x}) + f(t, \\boldsymbol{x}) \\qquad \\text{on } \\Omega$$\n",
    "$$u(t, \\boldsymbol{x}) = u_D(t, \\boldsymbol{x}) \\qquad \\text{on } \\partial \\Omega$$\n",
    "$$u(t, \\boldsymbol{x}) = u_0(\\boldsymbol{x}) \\qquad \\text{at } t = 0$$\n",
    "\n",
    "Now, the solution $u(t, \\boldsymbol{x})$ and source function $f(t, \\boldsymbol{x})$ vary with both space and time. For convenience we from now on write $u = u(t, \\boldsymbol{x})$, etc. Note that in order to solve this time-dependent problem we now also require an initial condition $u_0(\\boldsymbol{x})$.\n",
    "\n",
    "### Discretisation\n",
    "\n",
    "To obtain the variational form of the diffusion equation we have to first discretise the time-dependent term using a finite difference scheme. For simplicity we choose the simple backwar Euler method:\n",
    "\n",
    "$$\\frac{\\partial u}{\\partial t} \\approx \\frac{u^{n+1} + u^n}{\\Delta t}$$\n",
    "\n",
    "with current time step $n$ and discrete time step size $\\Delta t$. The diffusion equation now reads \n",
    "\n",
    "$$\\frac{u^{n+1} + u^n}{\\Delta t} = \\nabla^2 u^{n+1} + f^{n+1} \\qquad \\text{on } \\Omega$$\n",
    "\n",
    "Recall the variational form of the Poisson equation: Given trial and test spaces $V$ and $\\hat{V}$, find $u \\in V$ such that\n",
    "\n",
    "$$\\int_{\\Omega} \\nabla u \\cdot \\nabla v dx = \\int_{\\Omega} fv dx \\qquad \\forall v \\in \\hat{V}$$\n",
    "\n",
    "To obtain the variational form for the diffusion equation we just need to add the time-discretised term:\n",
    "\n",
    "$$\\int_{\\Omega} \\frac{u^{n+1} + u^n}{\\Delta t} v dx - \\int_{\\Omega} \\nabla u \\cdot \\nabla v dx - \\int_{\\Omega} fv dx = 0\\qquad \\forall v \\in \\hat{V}$$\n",
    "\n",
    "### FEniCS implementation"
   ]
  },
  {
   "cell_type": "code",
   "execution_count": 13,
   "metadata": {},
   "outputs": [
    {
     "name": "stdout",
     "output_type": "stream",
     "text": [
      "t = 0.10: error = 0.00291\n",
      "t = 0.20: error = 0.00291\n",
      "t = 0.30: error = 0.00291\n",
      "t = 0.40: error = 0.00291\n",
      "t = 0.50: error = 0.00291\n",
      "t = 0.60: error = 0.00291\n",
      "t = 0.70: error = 0.00291\n",
      "t = 0.80: error = 0.00291\n",
      "t = 0.90: error = 0.00291\n",
      "t = 1.00: error = 0.00291\n",
      "t = 1.10: error = 0.00291\n",
      "t = 1.20: error = 0.00291\n",
      "t = 1.30: error = 0.00291\n",
      "t = 1.40: error = 0.00291\n",
      "t = 1.50: error = 0.00291\n",
      "t = 1.60: error = 0.00291\n",
      "t = 1.70: error = 0.00291\n",
      "t = 1.80: error = 0.00291\n",
      "t = 1.90: error = 0.00291\n",
      "t = 2.00: error = 0.00291\n"
     ]
    },
    {
     "data": {
      "image/png": "[encoded data removed]",
      "text/plain": [
       "<Figure size 432x288 with 1 Axes>"
      ]
     },
     "metadata": {
      "needs_background": "light"
     },
     "output_type": "display_data"
    }
   ],
   "source": [
    "from fenics import *\n",
    "import numpy as np\n",
    "\n",
    "T = 2.0            # final time\n",
    "num_steps = 20     # number of time steps\n",
    "dt = T / num_steps # time step size\n",
    "alpha = 3          # parameter alpha\n",
    "beta = 1.2         # parameter beta\n",
    "\n",
    "# Create mesh and define function space\n",
    "nx = ny = 16\n",
    "mesh = UnitSquareMesh(nx, ny)\n",
    "V = FunctionSpace(mesh, 'P', 1)\n",
    "V2 = FunctionSpace(mesh, 'P', 2)\n",
    "\n",
    "# Define boundary condition\n",
    "u_D = Expression('1 + x[0]*x[0] + alpha*x[1]*x[1] + beta*t',\n",
    "                 degree=2, alpha=alpha, beta=beta, t=0)\n",
    "\n",
    "def boundary(x, on_boundary):\n",
    "    return on_boundary\n",
    "\n",
    "bc = DirichletBC(V, u_D, boundary)\n",
    "\n",
    "# Define initial value\n",
    "u_n = interpolate(u_D, V)\n",
    "#u_n = project(u_D, V)\n",
    "\n",
    "# Define variational problem\n",
    "u = TrialFunction(V)\n",
    "v = TestFunction(V)\n",
    "f = Constant(beta - 2 - 2*alpha)\n",
    "\n",
    "F = u*v*dx + dt*dot(grad(u), grad(v))*dx - (u_n + dt*f)*v*dx\n",
    "a, L = lhs(F), rhs(F)\n",
    "\n",
    "# Time-stepping\n",
    "u = Function(V)\n",
    "t = 0\n",
    "for n in range(num_steps):\n",
    "\n",
    "    # Update current time\n",
    "    t += dt\n",
    "    u_D.t = t\n",
    "\n",
    "    # Compute solution\n",
    "    solve(a == L, u, bc)\n",
    "\n",
    "    # Plot solution\n",
    "    plot(u)\n",
    "\n",
    "    # Compute error at vertices\n",
    "    u_e = interpolate(u_D, V2)\n",
    "    u_ee = project(u_e, V)\n",
    "    error = np.abs(u_ee.vector().get_local() - u.vector().get_local()).max()\n",
    "    rel_error = np.abs((u_ee.vector().get_local() - u.vector().get_local())/u.vector().get_local()).max()\n",
    "    print('t = %.2f: error = %.3g' % (t, error))\n",
    "\n",
    "    # Update previous solution\n",
    "    u_n.assign(u)"
   ]
  },
  {
   "cell_type": "code",
   "execution_count": null,
   "metadata": {},
   "outputs": [],
   "source": []
  }
 ],
 "metadata": {
  "kernelspec": {
   "display_name": "Python 3",
   "language": "python",
   "name": "python3"
  },
  "language_info": {
   "codemirror_mode": {
    "name": "ipython",
    "version": 3
   },
   "file_extension": ".py",
   "mimetype": "text/x-python",
   "name": "python",
   "nbconvert_exporter": "python",
   "pygments_lexer": "ipython3",
   "version": "3.7.3"
  }
 },
 "nbformat": 4,
 "nbformat_minor": 2
}
