{
 "cells": [
  {
   "cell_type": "markdown",
   "metadata": {},
   "source": [
    "### Excercies 6: Stochastic simulation of gating\n",
    "\n",
    "We start by defining the transition matrix for the following Markov model:\n",
    "\n",
    "<img src=\"fig/coi.png\" width=700>"
   ]
  },
  {
   "cell_type": "markdown",
   "metadata": {},
   "source": [
    "** Exercise 6a) **\n",
    "\n",
    "In equilbrium there is a certain probability that the channel is in the open state $O$. Can you derive a mathematical expression for this in terms of the rate constants? \n",
    "\n",
    "Hint: Write donw the ODE for $\\dot{C}$. Solve $\\dot{C}=0$ to express $C$ in terms of $O$. Repeat for $I$. Finally use $C+O+I = 1$."
   ]
  },
  {
   "cell_type": "markdown",
   "metadata": {},
   "source": [
    "** Implementation **\n",
    "\n",
    "Run the cells below and observe the results. You will find exercises interspersed with the code\n",
    "\n"
   ]
  },
  {
   "cell_type": "code",
   "execution_count": 70,
   "metadata": {
    "collapsed": true
   },
   "outputs": [],
   "source": [
    "import numpy as np\n",
    "import matplotlib.pyplot as plt\n",
    "from scipy.integrate import odeint\n",
    "\n",
    "# Define the matrix for the three state Markov Model (C,O,I)\n",
    "def transition_matrix(k_co, k_oc, k_oi, k_io):\n",
    "\n",
    "    C = 0;\n",
    "    O = 1;\n",
    "    I = 2; \n",
    "\n",
    "    n = 3;\n",
    "    A = np.zeros((n,n))\n",
    "\n",
    "    A[C, O] = k_co;\n",
    "    A[O, C] = k_oc;\n",
    "    A[O, I] = k_oi;\n",
    "    A[I, O] = k_io;\n",
    "    \n",
    "\n",
    "    # needs to do this for dy/dt = A*y to be correct:\n",
    "    A = A.transpose()\n",
    "\n",
    "    # we have only filled in the positive contributions\n",
    "    # we can figure out the negative ones from those:\n",
    "    for i in range(n):\n",
    "        A[i,i] = -A[:,i].sum()\n",
    "\n",
    "    return A\n"
   ]
  },
  {
   "cell_type": "markdown",
   "metadata": {},
   "source": [
    "Here we set the constants and compute an actual matrix:"
   ]
  },
  {
   "cell_type": "code",
   "execution_count": 71,
   "metadata": {},
   "outputs": [
    {
     "name": "stdout",
     "output_type": "stream",
     "text": [
      "[[ -5.  10.   0.]\n",
      " [  5. -11.   0.]\n",
      " [  0.   1.  -0.]]\n"
     ]
    }
   ],
   "source": [
    "k_co, k_oc, k_oi, k_io = 5, 10, 1, 0\n",
    "A = transition_matrix(k_co, k_oc, k_oi, k_io)\n",
    "print(A)"
   ]
  },
  {
   "cell_type": "markdown",
   "metadata": {},
   "source": [
    "And here we define the ODE system:"
   ]
  },
  {
   "cell_type": "code",
   "execution_count": 72,
   "metadata": {
    "collapsed": true
   },
   "outputs": [],
   "source": [
    "def ode_system(y, t, A):\n",
    "    dy = np.dot(A,y)\n",
    "    return dy\n"
   ]
  },
  {
   "cell_type": "markdown",
   "metadata": {},
   "source": [
    "Defining the initial condition for the ODE system:"
   ]
  },
  {
   "cell_type": "code",
   "execution_count": 73,
   "metadata": {
    "collapsed": true
   },
   "outputs": [],
   "source": [
    "Y0 = np.array([1,0,0]) # Start in closed state [0]"
   ]
  },
  {
   "cell_type": "markdown",
   "metadata": {},
   "source": [
    "Solving the ODE and plotting the solution:"
   ]
  },
  {
   "cell_type": "code",
   "execution_count": 79,
   "metadata": {
    "scrolled": true
   },
   "outputs": [
    {
     "data": {
      "image/png": "[encoded data removed]",
      "text/plain": [
       "<matplotlib.figure.Figure at 0x7f9473bc3908>"
      ]
     },
     "metadata": {},
     "output_type": "display_data"
    }
   ],
   "source": [
    "dt = 0.01;\n",
    "t = np.arange(0,2,dt)\n",
    "Y = odeint(ode_system, Y0, t, (A,))\n",
    "plt.plot(t,Y); plt.legend(('C','O','I'))\n",
    "plt.show()\n"
   ]
  },
  {
   "cell_type": "markdown",
   "metadata": {},
   "source": [
    "** Exercise 6b) **\n",
    "\n",
    "Extend the simulation time such that the solution is closer to steady state."
   ]
  },
  {
   "cell_type": "markdown",
   "metadata": {},
   "source": [
    "Below is the code for stochastic simulation. Given a state and a small time step, the next state is computed based on the transition matrix."
   ]
  },
  {
   "cell_type": "code",
   "execution_count": 80,
   "metadata": {
    "collapsed": true
   },
   "outputs": [],
   "source": [
    "def advance(state, A, dt):\n",
    "\n",
    "    P = A[:,state]*dt; \n",
    "    P[state] = 0;\n",
    "    CP = np.cumsum(P);\n",
    "\n",
    "    random_number = np.random.rand();\n",
    "    for i in range(len(CP)):\n",
    "\n",
    "        if random_number < CP[i]:\n",
    "            state = i;\n",
    "            return state\n",
    "\n",
    "    return state"
   ]
  },
  {
   "cell_type": "markdown",
   "metadata": {},
   "source": [
    "**Stochastic simultaion of a single gate**"
   ]
  },
  {
   "cell_type": "code",
   "execution_count": 85,
   "metadata": {},
   "outputs": [
    {
     "data": {
      "image/png": "[encoded data removed]",
      "text/plain": [
       "<matplotlib.figure.Figure at 0x7f9473986588>"
      ]
     },
     "metadata": {},
     "output_type": "display_data"
    }
   ],
   "source": [
    "s = np.zeros(len(t),'i')\n",
    "s[0] = 0;\n",
    "for i in range(len(t)-1):\n",
    "    s[i+1]  = advance(s[i], A, dt)\n",
    "    \n",
    "plt.plot(t,s)\n",
    "plt.show()\n"
   ]
  },
  {
   "cell_type": "markdown",
   "metadata": {},
   "source": [
    "** Exercise 6c) **\n",
    "\n",
    "Try and run this several times. Notice that the outcome changes each time, but there is also a pattern.\n",
    "\n",
    "The Inactived state [2] seems to absorbing, i.e. when you end up there we never exits again. \n",
    "Why? \n",
    "\n",
    "Can you change the model so that this does not happen?"
   ]
  },
  {
   "cell_type": "markdown",
   "metadata": {},
   "source": [
    "**Taking the average over $N$ channels**"
   ]
  },
  {
   "cell_type": "code",
   "execution_count": 77,
   "metadata": {},
   "outputs": [
    {
     "data": {
      "image/png": "[encoded data removed]",
      "text/plain": [
       "<matplotlib.figure.Figure at 0x7f947306c978>"
      ]
     },
     "metadata": {},
     "output_type": "display_data"
    }
   ],
   "source": [
    "N = 100  # a larger value will give results closer to the deterministic solution\n",
    "S = np.zeros((len(t),N),'i')\n",
    "for n in range(N):\n",
    "    S[0,n] = 0;\n",
    "    for i in range(len(t)-1):\n",
    "        S[i+1,n]  = advance(S[i,n], A, dt)\n",
    "    \n",
    "p0 = np.mean(S==0,1)\n",
    "p1 = np.mean(S==1,1)\n",
    "p2 = np.mean(S==2,1)\n",
    "plt.plot(t,p0,t,p1,t,p2); plt.show()"
   ]
  },
  {
   "cell_type": "markdown",
   "metadata": {},
   "source": [
    "** Exercise 6d) **\n",
    "\n",
    "Plot the stochastic soltion and the deterministic solution in the same figure.\n",
    "\n",
    "How large must N be for the two to become similar?"
   ]
  },
  {
   "cell_type": "code",
   "execution_count": 69,
   "metadata": {
    "collapsed": true
   },
   "outputs": [],
   "source": [
    "# write your plotting command here\n",
    "plt.show()"
   ]
  }
 ],
 "metadata": {
  "kernelspec": {
   "display_name": "Python 3",
   "language": "python",
   "name": "python3"
  },
  "language_info": {
   "codemirror_mode": {
    "name": "ipython",
    "version": 3
   },
   "file_extension": ".py",
   "mimetype": "text/x-python",
   "name": "python",
   "nbconvert_exporter": "python",
   "pygments_lexer": "ipython3",
   "version": "3.6.1"
  }
 },
 "nbformat": 4,
 "nbformat_minor": 2
}
