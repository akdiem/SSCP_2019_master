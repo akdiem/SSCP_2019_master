{
 "cells": [
  {
   "cell_type": "markdown",
   "metadata": {},
   "source": [
    "# E3 — Exercises on the Cell Membrane"
   ]
  },
  {
   "cell_type": "code",
   "execution_count": null,
   "metadata": {
    "collapsed": true
   },
   "outputs": [],
   "source": [
    "import numpy as np\n",
    "import matplotlib.pyplot as plt\n",
    "from scipy.integrate import odeint"
   ]
  },
  {
   "cell_type": "markdown",
   "metadata": {},
   "source": [
    "### Exercise 1: A simple voltage clamp model\n",
    "\n",
    "We will now look at a simple model, where we have only the impermeable membrane, with no ion channels. We want to implement a voltage clamp, so that we can control the membrane potential as desired. Assume we manage to measure the membrane potential using a voltmeter. If our measurement shows the membrane potential to be different from our target potential, we supply a bit of applied current to the membrane, changing the membrane potential as a result.\n",
    "<img src=\"fig/voltage_clamp_circuit.png\" width=250>\n",
    "We will now model what happens when we want to change the potential as a step function. We know that the membrane potential of the two components must be the same and equal to the membrane potential $V(t)$. The pipette acts as a ohmic current source, so we know that \n",
    "$$I_{\\rm applied} = \\frac{V - V_{\\rm target}}{Rs}.$$\n",
    "Any current across the pipette will lead to a similar capacitive current across the membrane, so we have\n",
    "$$C_{\\rm m} \\frac{{\\rm d}V}{{\\rm d}t} = I_{\\rm cap} = -I_{\\rm applied}.$$\n",
    "Giving an ODE for the membrane potential\n",
    "$$\\frac{{\\rm d}V}{{\\rm d}t} = \\frac{V_{\\rm target} - V}{C_{\\rm m} R_{\\rm s}}.$$"
   ]
  },
  {
   "cell_type": "markdown",
   "metadata": {},
   "source": [
    "We will now solve this ODE to model our voltage clamp\n"
   ]
  },
  {
   "cell_type": "markdown",
   "metadata": {},
   "source": [
    "\n",
    "**Exercise 1a)**\n",
    "\n",
    "Let the prescribed membrane potential be the following step function\n",
    "$$V_{\\rm target} = \\begin{cases}\n",
    "-40 {\\rm\\ mV} & \\mbox{if } 2 {\\rm\\ ms} < t < 6 {\\rm\\ ms}, \\\\\n",
    "-80 {\\rm\\ mV}& \\mbox{else.}\n",
    "\\end{cases}$$\n",
    "Implement this as a function `V_target(t)` and plot it in the period $t\\in[0, 10]$ ms.\n",
    "\n",
    "*Hint:* Rather than use `if`-tests, you could use boolean math: `(t > 0)*(t < 1)`, which lets your function take in both a scalar t, but also a full time array."
   ]
  },
  {
   "cell_type": "code",
   "execution_count": null,
   "metadata": {
    "collapsed": true
   },
   "outputs": [],
   "source": [
    "# your code here"
   ]
  },
  {
   "cell_type": "markdown",
   "metadata": {},
   "source": [
    "**Exercise 1b)**\n",
    "\n",
    "We will let $V$ be denoted in mV and time in ms. Also let $C_{\\rm m} = 0.05$ nF and $R_{\\rm s} = 10$ M$\\Omega$. Look at the ODE and make sure the units are consistent by hand. Make any necessary changes to units \n",
    "$$\\frac{{\\rm d}V}{{\\rm d}t} = \\frac{V_{\\rm target} - V}{C_{\\rm m} R_{\\rm s}}.$$"
   ]
  },
  {
   "cell_type": "markdown",
   "metadata": {},
   "source": [
    "**Exercise 1c)**\n",
    "\n",
    "Implement the ODE and use `odeint` to solve it to find the membrane potential $V(t)$ in the period $t \\in [0, 10]$ ms. Let $C_m = 0.05$ nF and $R_s = 10$ M$\\Omega$. Let $V$ be denoted in mV and time in ms. Plot your solution."
   ]
  },
  {
   "cell_type": "code",
   "execution_count": null,
   "metadata": {
    "collapsed": true
   },
   "outputs": [],
   "source": [
    "# your code here"
   ]
  },
  {
   "cell_type": "markdown",
   "metadata": {},
   "source": [
    "\n",
    "**Exercise 1d)**\n",
    "\n",
    "Compare your solution of $V(t)$ to your plot of the prescribed $V_{\\rm target}(t)$. Describe the differences.\n"
   ]
  },
  {
   "cell_type": "markdown",
   "metadata": {},
   "source": [
    "\n",
    "**(Optional) Exercise 1e)**\n",
    "\n",
    "Solve the ODE by hand. What kind of ODE/solution is this? What is the most important functional parameter in this solution?"
   ]
  },
  {
   "cell_type": "markdown",
   "metadata": {},
   "source": [
    "**Exercise 1f)**\n",
    "\n",
    "Using the widget below, see how the membrane potential response changes as you change the membrane potential and the series resistance.\n",
    "\n",
    "If we want the membrane potential to follow the prescribed voltage as closely as possible, what restrictions does this put on $C_{\\rm m}$ and $R_{\\rm s}$?\n"
   ]
  },
  {
   "cell_type": "code",
   "execution_count": 1,
   "metadata": {},
   "outputs": [
    {
     "data": {
      "application/vnd.jupyter.widget-view+json": {
       "model_id": "dc4ea3c6b3fc4ea993a7658597c25e7f",
       "version_major": 2,
       "version_minor": 0
      },
      "text/html": [
       "<p>Failed to display Jupyter Widget of type <code>interactive</code>.</p>\n",
       "<p>\n",
       "  If you're reading this message in the Jupyter Notebook or JupyterLab Notebook, it may mean\n",
       "  that the widgets JavaScript is still loading. If this message persists, it\n",
       "  likely means that the widgets JavaScript library is either not installed or\n",
       "  not enabled. See the <a href=\"https://ipywidgets.readthedocs.io/en/stable/user_install.html\">Jupyter\n",
       "  Widgets Documentation</a> for setup instructions.\n",
       "</p>\n",
       "<p>\n",
       "  If you're reading this message in another frontend (for example, a static\n",
       "  rendering on GitHub or <a href=\"https://nbviewer.jupyter.org/\">NBViewer</a>),\n",
       "  it may mean that your frontend doesn't currently support widgets.\n",
       "</p>\n"
      ],
      "text/plain": [
       "interactive(children=(FloatSlider(value=0.05, description='Cm', max=0.1, min=0.005, step=0.005), IntSlider(value=10, description='Rs', max=20, min=5), Output()), _dom_classes=('widget-interact',))"
      ]
     },
     "metadata": {},
     "output_type": "display_data"
    }
   ],
   "source": [
    "from L3_widgets import VoltageClampWidget\n",
    "VoltageClampWidget().display()"
   ]
  },
  {
   "cell_type": "markdown",
   "metadata": {},
   "source": [
    "It is the product of the membrane capacitance and the series resistance that is important, as this is the time constant of the membranes response.\n",
    "$$\\tau = C_{\\rm m}\\cdot R_{\\rm s}.$$ \n",
    "For a whole cell voltage clamp protocol, the cell membrane capacitance is typically 0.05 nF, and the series resistance is usually in the range 5-20 M$\\Omega$. This gives a noticable delay in the membrane potential response, and capacitive currents that persist over several milliseconds. This can actually disturb the measurement of other currents, introducing noise to our measurements.\n",
    "\n",
    "In another technique, the 'patch' clamp, we tear of a small part (1 µm$^2$) of the cell membrane. This means we drastically lower the capacitance $C_{\\rm m}$ ($\\sim0.01$ pF). In a patch clamp, the series resistance is usually in the G$\\Omega$ range, so the time constant becomes very small, and there are usually no problems due to the capacitive currents."
   ]
  },
  {
   "cell_type": "markdown",
   "metadata": {},
   "source": [
    "### Exercise 2: Calculating Nernst Potentials\n",
    "\n",
    "The following table gives typical values for mammalian cardiomyocytes, and is taken from [Katz, 2010]\n",
    "\n",
    "| Ion        | Intracellular | Extracellular  |\n",
    "| -----------|:-------------:| -----:|\n",
    "| Sodium     | 8 mM          | 110 mM |\n",
    "| Potassium  | 100 mM        | 4 mM  |\n",
    "| Calcium    | 0.2 µM        | 1 mM  |\n",
    "\n",
    "You will also need to know these physical constants\n",
    "\n",
    "| Name | Symbol  | Value | Unit |\n",
    "| -----------|:-------------:|-----:|------:|\n",
    "| Faraday's constant  | $F$ | 96485 | C/mol |\n",
    "| Gas Constant | $R$ |  8.314 | J/(mol K) |\n",
    "| Temperature | $T$ | 310|  K | \n",
    "\n"
   ]
  },
  {
   "cell_type": "markdown",
   "metadata": {},
   "source": [
    "\n",
    "\n",
    "**Exercise 2a)**\n",
    "\n",
    "Based on the tabulated values, calculate the Nernst potentials for the three ionic species."
   ]
  },
  {
   "cell_type": "markdown",
   "metadata": {},
   "source": [
    "\n",
    "**Exercise 2b)**\n",
    "\n",
    "You have received two positive answers, and one negative. Explain why this is the case.\n"
   ]
  },
  {
   "cell_type": "markdown",
   "metadata": {},
   "source": [
    "\n",
    "**Exercise 2c)**\n",
    "\n",
    "Assume we have a membrane that is at a potential of -80 mV. We now open sodium channels in the membrane. Sodium ions will now start to enter the cell, increasing the membrane potential untill it reaches the Nernst potential for sodium in the cell. Estimate the number of Na$^+$-ions that cross the membrane for this change to occur\n",
    "* *Hint 1:* Recall that $\\Delta Q = C_m \\Delta V$.\n",
    "* *Hint 2:* You can use Faraday's constant to go from a charge to the number of charged particles.\n",
    "\n",
    "Assuming the cell has a total volume of 20 picoliters, how much does the sodium concentration change as a result of this?\n"
   ]
  },
  {
   "cell_type": "markdown",
   "metadata": {},
   "source": [
    "\n",
    "**Exercise 2d)**\n",
    "\n",
    "Assume the intracellular sodium increases by 30%, how much does the Nernst potential change?\n"
   ]
  },
  {
   "cell_type": "markdown",
   "metadata": {},
   "source": [
    "\n",
    "**Exercise 2e)**\n",
    "\n",
    "Based on your answers to the last two exercises. Explain why the Nernst potential can be considered a constant, despite it being a function of the intracellular and extracellular concentrations.\n",
    "\n",
    "**Note:** The Nernst potential is usually considered a constant for most species, but due to the initially very low intracellular calcium, the Nernst potential of calcium changes more drastically than for other species, which potentially can be a source of error in models."
   ]
  },
  {
   "cell_type": "markdown",
   "metadata": {},
   "source": [
    "### Exercise 3: The Equilibrium Membrane Potential"
   ]
  },
  {
   "cell_type": "markdown",
   "metadata": {},
   "source": [
    "**Exercise 3a)**\n",
    "Solve the following ODE numerically\n",
    "$$C_{\\rm m}\\frac{{\\rm d}V}{{\\rm d}t} = - g_{\\rm Na} (V-E_{\\rm Na}).$$\n",
    "\n",
    "Let $C_{\\rm m} = 0.05$ nF and $g_{\\rm Na}=0.005$  µS. Let the membrane potential be given in units of mV and time in units if ms. Make sure all units are compatible, and make any necessary changes.\n",
    "\n",
    "Assume an initial membrane potential of $V_0 = -80$ mV, and solve the ODE for $t\\in[0, 200]$ ms."
   ]
  },
  {
   "cell_type": "code",
   "execution_count": null,
   "metadata": {
    "collapsed": true
   },
   "outputs": [],
   "source": [
    "# your code here"
   ]
  },
  {
   "cell_type": "markdown",
   "metadata": {},
   "source": [
    "**(Optional) Exercise 3b)**\n",
    "\n",
    "Solve the ODE by hand. What is the time constant in the exponential relaxation?\n",
    "* *Hint:* Using the subsitution $u = V-E_{\\rm Na}$ turns the equation into an exponential decay ODE, which is separable."
   ]
  },
  {
   "cell_type": "markdown",
   "metadata": {},
   "source": [
    "\n",
    "**Exercise 3c)**\n",
    "\n",
    "Plot your solution. How long does it take for the membrane potential to equilibriate? Compare this with your time constant from 3b (if you did it)."
   ]
  },
  {
   "cell_type": "code",
   "execution_count": null,
   "metadata": {
    "collapsed": true
   },
   "outputs": [],
   "source": [
    "# your code here"
   ]
  },
  {
   "cell_type": "markdown",
   "metadata": {},
   "source": [
    "** Exercise 3d)**\n",
    "\n",
    "Now add a calcium current and a potassium current to your ODE system. Let $g_{\\rm Ca} = 0.002$ µS and $g_{\\rm K} = 0.05$ µS. Solve the equation from an initial potential of $V_0 = 0$ mV for $t \\in [0, 200]$ ms."
   ]
  },
  {
   "cell_type": "code",
   "execution_count": null,
   "metadata": {
    "collapsed": true
   },
   "outputs": [],
   "source": [
    "# your code here"
   ]
  },
  {
   "cell_type": "markdown",
   "metadata": {},
   "source": [
    "**Exercise 3e)**\n",
    "\n",
    "Plot your solution. What is the equilibrium potential of the system now? Explain why. Does the initial membrane potential impact what the equilibrium potential is?"
   ]
  },
  {
   "cell_type": "markdown",
   "metadata": {},
   "source": [
    "**Exercise 3f)**\n",
    "\n",
    "The resting membrane potential of the cell is around -80 mV. This is very close to the Nernst potential of potassium, but far from those of sodium and calcium. It is thus reasonable to say that a cell at rest must be much more permeable to potassium, than either of the other two species.\n",
    "\n",
    "Using the widget below, estimate roughly how much stronger the potassium conductance is for a cell at rest.\n",
    "\n"
   ]
  },
  {
   "cell_type": "code",
   "execution_count": 1,
   "metadata": {},
   "outputs": [
    {
     "data": {
      "image/png": "[encoded data removed]",
      "text/plain": [
       "<matplotlib.figure.Figure at 0x7f6045eb3550>"
      ]
     },
     "metadata": {},
     "output_type": "display_data"
    }
   ],
   "source": [
    "from L3_widgets import MembraneWidget\n",
    "MembraneWidget().display()"
   ]
  },
  {
   "cell_type": "code",
   "execution_count": null,
   "metadata": {
    "collapsed": true
   },
   "outputs": [],
   "source": []
  }
 ],
 "metadata": {
  "kernelspec": {
   "display_name": "Python 3",
   "language": "python",
   "name": "python3"
  },
  "language_info": {
   "codemirror_mode": {
    "name": "ipython",
    "version": 3
   },
   "file_extension": ".py",
   "mimetype": "text/x-python",
   "name": "python",
   "nbconvert_exporter": "python",
   "pygments_lexer": "ipython3",
   "version": "3.6.1"
  },
  "widgets": {
   "state": {
    "f67b22bc88764229a6bb49601156df75": {
     "views": [
      {
       "cell_index": 30
      }
     ]
    }
   },
   "version": "1.2.0"
  }
 },
 "nbformat": 4,
 "nbformat_minor": 2
}
